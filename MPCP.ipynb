{
  "nbformat": 4,
  "nbformat_minor": 0,
  "metadata": {
    "colab": {
      "name": "MPCP.ipynb",
      "version": "0.3.2",
      "provenance": []
    },
    "kernelspec": {
      "name": "python3",
      "display_name": "Python 3"
    }
  },
  "cells": [
    {
      "metadata": {
        "id": "eKC1-uRAMvpx",
        "colab_type": "text"
      },
      "cell_type": "markdown",
      "source": [
        "This is an MPCP solver, in python3.   The problem is not decidable in general, so the integer parameter B controls how long we are willing to search for a match, before giving up.\n",
        "\n",
        "The first code cell defines the solver (a lot of code), it is easier to skip that and look at the usage examples below."
      ]
    },
    {
      "metadata": {
        "id": "0wxWR7M-M7eT",
        "colab_type": "code",
        "colab": {}
      },
      "cell_type": "code",
      "source": [
        "# A 'domino' is a pair of strings, as described by Sipser.\n",
        "\n",
        "# Helper functions\n",
        "def reduce(a, b):\n",
        "  # Return prefix-reduced form of strings a and b, or None.\n",
        "  n = min(len(a), len(b))\n",
        "  return None if a[:n]!=b[:n] else (a[n:], b[n:])\n",
        "\n",
        "def seq2list(seq):\n",
        "  # Convert (3, (2, (1, None))) to [1, 2, 3]\n",
        "  ret = []\n",
        "  while seq != None:\n",
        "    ret.append(seq[0])\n",
        "    seq = seq[1]\n",
        "  return ret[::-1]\n",
        "\n",
        "# We use a priority queue, to prefer exploring reduced\n",
        "# pairs which are close to the goal (short total length)\n",
        "import heapq\n",
        "def pqpair(r):\n",
        "  return (len(r[0])+len(r[1]), r)\n",
        "\n",
        "# Main function (no printed output)\n",
        "def mpcp(dominos, B=10000):\n",
        "  \"\"\"\n",
        "  Given a list of dominos, try to find an MPCP match.\n",
        "  That is, a match starting with a copy of dominos[0].\n",
        "  If found, the match is returned as a list of indices.\n",
        "  The integer B bounds the number of steps searched.\n",
        "  If there is no match, returns None.\n",
        "  If we ran out of steps, returns B.\n",
        "  \"\"\"\n",
        "  pq, seq = [], {}\n",
        "  start = reduce(dominos[0][0], dominos[0][1])\n",
        "  if start:\n",
        "    heapq.heappush(pq, pqpair(start))\n",
        "    seq[start] = (0, None)\n",
        "  goal = ('', '')\n",
        "  for step in range(B):\n",
        "    if len(pq)==0: # no solution!\n",
        "      return None\n",
        "    thispair = heapq.heappop(pq)[1]\n",
        "    thisseq = seq[thispair]\n",
        "    if thispair == goal: # found it!  return match\n",
        "      return seq2list(thisseq)\n",
        "    # Try extending thispair with each domino\n",
        "    for i in range(len(dominos)):\n",
        "      dom = dominos[i]\n",
        "      r = reduce(thispair[0]+dom[0], thispair[1]+dom[1])\n",
        "      if r and (r not in seq): # new reduced pair\n",
        "        seq[r] = (i, thisseq)\n",
        "        if r==goal: # found it!\n",
        "          return seq2list(seq[r])\n",
        "        # save r for later\n",
        "        heapq.heappush(pq, pqpair(r))\n",
        "  # ran out of steps\n",
        "  return B\n",
        "\n",
        "def mpcp_pretty(dominos, B=10000):\n",
        "  \"Run mpcp(dominos, B), but with printed output.\"\n",
        "  print('Solving MPCP:', \n",
        "        ' '.join(\"%s/%s\" % d for d in dominos))\n",
        "  sol = mpcp(dominos, B)\n",
        "  if sol==None:\n",
        "    print(\"NO MATCH (no solution exists)\")\n",
        "  elif sol==B:\n",
        "    print(\"NO MATCH FOUND (gave up after %d steps)\" % B)\n",
        "  else:\n",
        "    print(\"FOUND MATCH:\", ' '.join(str(i) for i in sol))\n",
        "    print(' '.join(dominos[i][0] for i in sol))\n",
        "    print(' '.join(dominos[i][1] for i in sol))\n",
        "  print()"
      ],
      "execution_count": 0,
      "outputs": []
    },
    {
      "metadata": {
        "id": "hFQtXSBvNhKK",
        "colab_type": "text"
      },
      "cell_type": "markdown",
      "source": [
        "Run some examples"
      ]
    },
    {
      "metadata": {
        "id": "h9fDtazYNj8i",
        "colab_type": "code",
        "outputId": "d78548a4-baed-4175-9310-465b50dc5629",
        "colab": {
          "base_uri": "https://localhost:8080/",
          "height": 265
        }
      },
      "cell_type": "code",
      "source": [
        "# Example from Sipser page 227\n",
        "page227 = [('b', 'ca'), ('a', 'ab'), ('ca', 'a'), ('abc', 'c')]\n",
        "mpcp_pretty(page227) # no solution\n",
        "\n",
        "# Rearraged, moved the second domino to the front\n",
        "page227b = [('a', 'ab'), ('b', 'ca'), ('ca', 'a'), ('abc', 'c')]\n",
        "mpcp_pretty(page227b) # finds match in book\n",
        "\n",
        "# Exercise 5.3, Sipser page 239\n",
        "page239 = [('ab', 'abab'), ('b', 'a'), ('aba', 'b'), ('aa', 'a')]\n",
        "mpcp_pretty(page239)  # finds match in book"
      ],
      "execution_count": 0,
      "outputs": [
        {
          "output_type": "stream",
          "text": [
            "Solving MPCP: b/ca a/ab ca/a abc/c\n",
            "NO MATCH (no solution exists)\n",
            "\n",
            "Solving MPCP: a/ab b/ca ca/a abc/c\n",
            "FOUND MATCH: 0 1 2 0 3\n",
            "a b ca a abc\n",
            "ab ca a ab c\n",
            "\n",
            "Solving MPCP: ab/abab b/a aba/b aa/a\n",
            "FOUND MATCH: 0 0 2 1 1 3 3\n",
            "ab ab aba b b aa aa\n",
            "abab abab b a a a a\n",
            "\n"
          ],
          "name": "stdout"
        }
      ]
    },
    {
      "metadata": {
        "id": "NRlJmGRDN7e6",
        "colab_type": "code",
        "outputId": "05364eed-ed1d-45bb-a9f4-d08ed206a5bc",
        "colab": {
          "base_uri": "https://localhost:8080/",
          "height": 131
        }
      },
      "cell_type": "code",
      "source": [
        "# Examples with no solution\n",
        "\n",
        "mpcp_pretty([('b', 'baaab'), ('aa', '')]) # no solution\n",
        "\n",
        "mpcp_pretty([('b', 'baab'), ('aa', '')]) # gives up"
      ],
      "execution_count": 0,
      "outputs": [
        {
          "output_type": "stream",
          "text": [
            "Solving MPCP: b/baaab aa/\n",
            "NO MATCH (no solution exists)\n",
            "\n",
            "Solving MPCP: b/baab aa/\n",
            "NO MATCH FOUND (gave up after 10000 steps)\n",
            "\n"
          ],
          "name": "stdout"
        }
      ]
    },
    {
      "metadata": {
        "id": "HqjvHiClUsgO",
        "colab_type": "code",
        "outputId": "77ce45f3-e2d3-4bb9-9c25-1a92b6c30f0c",
        "colab": {
          "base_uri": "https://localhost:8080/",
          "height": 112
        }
      },
      "cell_type": "code",
      "source": [
        "# First pick x, an input string in {a,b}*\n",
        "x = 'aabbaba'\n",
        "\n",
        "# Next, we define a list of dominos.\n",
        "# Each domino is a pair of strings.\n",
        "# We have a copy of x in the first domino,\n",
        "# but all the remaining dominos are fixed.\n",
        "\n",
        "dominos = [\n",
        "  ('#', '#S'+x+'#'), \n",
        "  ('a', 'a'), ('b', 'b'), ('#', '#'),\n",
        "  ('Sa', 'S'), ('Sb', 'T'),\n",
        "  ('Ta', 'T'), ('Tb', 'S'),\n",
        "  ('#T#', '#')\n",
        "]\n",
        "\n",
        "# try to find a match\n",
        "mpcp_pretty(dominos)\n",
        "\n",
        "# Define language L1 = { w in {a,b}*: w has an odd number of b's }.\n",
        "#\n",
        "# Claim: there is a match iff x is in L1."
      ],
      "execution_count": 8,
      "outputs": [
        {
          "output_type": "stream",
          "text": [
            "Solving MPCP: #/#Saabbaba# a/a b/b #/# Sa/S Sb/T Ta/T Tb/S #T#/#\n",
            "FOUND MATCH: 0 4 1 2 2 1 2 1 3 4 2 2 1 2 1 3 5 2 1 2 1 3 7 1 2 1 3 4 2 1 3 5 1 3 6 8\n",
            "# Sa a b b a b a # Sa b b a b a # Sb b a b a # Tb a b a # Sa b a # Sb a # Ta #T#\n",
            "#Saabbaba# S a b b a b a # S b b a b a # T b a b a # S a b a # S b a # T a # T #\n",
            "\n"
          ],
          "name": "stdout"
        }
      ]
    }
  ]
}